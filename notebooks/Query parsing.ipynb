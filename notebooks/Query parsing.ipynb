{
 "cells": [
  {
   "cell_type": "code",
   "execution_count": 1,
   "id": "d29e1f98",
   "metadata": {},
   "outputs": [],
   "source": [
    "import pandas as pd\n",
    "import os\n",
    "import re\n",
    "import json"
   ]
  },
  {
   "cell_type": "code",
   "execution_count": 2,
   "id": "737e07f4",
   "metadata": {},
   "outputs": [
    {
     "data": {
      "text/plain": [
       "['.git',\n",
       " '.gitignore',\n",
       " '.ipynb_checkpoints',\n",
       " 'dodo.py',\n",
       " 'postgresql-2022-02-20_204738.csv',\n",
       " 'Query parsing.ipynb',\n",
       " 'README.md',\n",
       " 'requirements.txt']"
      ]
     },
     "execution_count": 2,
     "metadata": {},
     "output_type": "execute_result"
    }
   ],
   "source": [
    "os.listdir()"
   ]
  },
  {
   "cell_type": "code",
   "execution_count": 3,
   "id": "d1cdf9e9",
   "metadata": {},
   "outputs": [
    {
     "data": {
      "text/html": [
       "<div>\n",
       "<style scoped>\n",
       "    .dataframe tbody tr th:only-of-type {\n",
       "        vertical-align: middle;\n",
       "    }\n",
       "\n",
       "    .dataframe tbody tr th {\n",
       "        vertical-align: top;\n",
       "    }\n",
       "\n",
       "    .dataframe thead th {\n",
       "        text-align: right;\n",
       "    }\n",
       "</style>\n",
       "<table border=\"1\" class=\"dataframe\">\n",
       "  <thead>\n",
       "    <tr style=\"text-align: right;\">\n",
       "      <th></th>\n",
       "      <th>0</th>\n",
       "      <th>1</th>\n",
       "      <th>2</th>\n",
       "      <th>3</th>\n",
       "    </tr>\n",
       "  </thead>\n",
       "  <tbody>\n",
       "    <tr>\n",
       "      <th>0</th>\n",
       "      <td>2022-02-20 20:47:38.897 UTC</td>\n",
       "      <td>NaN</td>\n",
       "      <td>NaN</td>\n",
       "      <td>ending log output to stderr</td>\n",
       "    </tr>\n",
       "    <tr>\n",
       "      <th>1</th>\n",
       "      <td>2022-02-20 20:47:38.897 UTC</td>\n",
       "      <td>NaN</td>\n",
       "      <td>NaN</td>\n",
       "      <td>starting PostgreSQL 14.2 (Ubuntu 14.2-1.pgdg18...</td>\n",
       "    </tr>\n",
       "    <tr>\n",
       "      <th>2</th>\n",
       "      <td>2022-02-20 20:47:38.897 UTC</td>\n",
       "      <td>NaN</td>\n",
       "      <td>NaN</td>\n",
       "      <td>listening on IPv4 address \"127.0.0.1\", port 5432</td>\n",
       "    </tr>\n",
       "    <tr>\n",
       "      <th>3</th>\n",
       "      <td>2022-02-20 20:47:38.902 UTC</td>\n",
       "      <td>NaN</td>\n",
       "      <td>NaN</td>\n",
       "      <td>listening on Unix socket \"/var/run/postgresql/...</td>\n",
       "    </tr>\n",
       "    <tr>\n",
       "      <th>4</th>\n",
       "      <td>2022-02-20 20:47:38.915 UTC</td>\n",
       "      <td>NaN</td>\n",
       "      <td>NaN</td>\n",
       "      <td>database system was shut down at 2022-02-20 20...</td>\n",
       "    </tr>\n",
       "  </tbody>\n",
       "</table>\n",
       "</div>"
      ],
      "text/plain": [
       "                             0    1    2  \\\n",
       "0  2022-02-20 20:47:38.897 UTC  NaN  NaN   \n",
       "1  2022-02-20 20:47:38.897 UTC  NaN  NaN   \n",
       "2  2022-02-20 20:47:38.897 UTC  NaN  NaN   \n",
       "3  2022-02-20 20:47:38.902 UTC  NaN  NaN   \n",
       "4  2022-02-20 20:47:38.915 UTC  NaN  NaN   \n",
       "\n",
       "                                                   3  \n",
       "0                        ending log output to stderr  \n",
       "1  starting PostgreSQL 14.2 (Ubuntu 14.2-1.pgdg18...  \n",
       "2   listening on IPv4 address \"127.0.0.1\", port 5432  \n",
       "3  listening on Unix socket \"/var/run/postgresql/...  \n",
       "4  database system was shut down at 2022-02-20 20...  "
      ]
     },
     "execution_count": 3,
     "metadata": {},
     "output_type": "execute_result"
    }
   ],
   "source": [
    "df = pd.read_csv('postgresql-2022-02-20_204738.csv', header=None)\n",
    "df.head()"
   ]
  },
  {
   "cell_type": "code",
   "execution_count": 4,
   "id": "628b5de5",
   "metadata": {},
   "outputs": [],
   "source": [
    "df = df.drop([0, 1, 2])"
   ]
  },
  {
   "cell_type": "code",
   "execution_count": 5,
   "id": "10209b52",
   "metadata": {},
   "outputs": [],
   "source": [
    "queries = df[3].tolist()"
   ]
  },
  {
   "cell_type": "code",
   "execution_count": 6,
   "id": "e00637f7",
   "metadata": {},
   "outputs": [
    {
     "data": {
      "text/plain": [
       "69"
      ]
     },
     "execution_count": 6,
     "metadata": {},
     "output_type": "execute_result"
    }
   ],
   "source": [
    "len(set(queries))"
   ]
  },
  {
   "cell_type": "code",
   "execution_count": 7,
   "id": "bb0370b9",
   "metadata": {
    "scrolled": true
   },
   "outputs": [
    {
     "data": {
      "text/plain": [
       "['execute <unnamed>: SELECT * FROM pg_stat_user_indexes',\n",
       " 'execute <unnamed>: SELECT * FROM pg_statio_user_indexes',\n",
       " \"statement: ALTER SYSTEM SET log_destination='stderr'\",\n",
       " \"statement: ALTER SYSTEM SET logging_collector='off'\",\n",
       " \"statement: ALTER SYSTEM SET log_statement='none'\",\n",
       " 'received fast shutdown request',\n",
       " 'aborting any active transactions',\n",
       " 'background worker \"logical replication launcher\" (PID 10665) exited with exit code 1',\n",
       " 'shutting down',\n",
       " 'database system is shut down']"
      ]
     },
     "execution_count": 7,
     "metadata": {},
     "output_type": "execute_result"
    }
   ],
   "source": [
    "queries[-10:]"
   ]
  },
  {
   "cell_type": "code",
   "execution_count": 8,
   "id": "95853a30",
   "metadata": {},
   "outputs": [],
   "source": [
    "queries = [q for q in queries if q.startswith('execute')]\n",
    "queries = list(set(queries))"
   ]
  },
  {
   "cell_type": "code",
   "execution_count": 9,
   "id": "5485134a",
   "metadata": {},
   "outputs": [
    {
     "data": {
      "text/plain": [
       "'COMMIT'"
      ]
     },
     "execution_count": 9,
     "metadata": {},
     "output_type": "execute_result"
    }
   ],
   "source": [
    "re.sub(r'^execute [^:]*: ', '', 'execute S_1: COMMIT')"
   ]
  },
  {
   "cell_type": "code",
   "execution_count": 10,
   "id": "5f185ec7",
   "metadata": {},
   "outputs": [],
   "source": [
    "queries = [re.sub(r'^execute [^:]*: ', '', q) for q in queries ]"
   ]
  },
  {
   "cell_type": "code",
   "execution_count": 11,
   "id": "19f14305",
   "metadata": {},
   "outputs": [],
   "source": [
    "queries = [q for q in queries if 'pg_' not in q and not q.startswith('SHOW ALL') and not q.startswith('COMMIT') and not q.startswith('SET') and not q.startswith('BEGIN')]"
   ]
  },
  {
   "cell_type": "code",
   "execution_count": 12,
   "id": "a9b5edb3",
   "metadata": {},
   "outputs": [],
   "source": [
    "queries = [q for q in queries if 'WHERE' in q or 'ORDER' in q]"
   ]
  },
  {
   "cell_type": "code",
   "execution_count": 13,
   "id": "f4fd14f1",
   "metadata": {},
   "outputs": [
    {
     "data": {
      "text/plain": [
       "['UPDATE review SET rating = $1 WHERE i_id=$2 AND u_id=$3',\n",
       " 'SELECT * FROM review r WHERE r.i_id=$1 ORDER BY creation_date DESC',\n",
       " 'SELECT * FROM review r, item i WHERE i.i_id = r.i_id and r.i_id=$1 ORDER BY rating DESC, r.creation_date DESC LIMIT 10',\n",
       " 'SELECT avg(rating) FROM review r, trust t WHERE r.u_id=t.target_u_id AND r.i_id=$1 AND t.source_u_id=$2',\n",
       " 'UPDATE item SET title = $1 WHERE i_id=$2',\n",
       " 'UPDATE item SET title = $1 WHERE i_id=$2',\n",
       " 'SELECT * FROM trust t WHERE t.source_u_id=$1',\n",
       " 'SELECT avg(rating) FROM review r WHERE r.i_id=$1',\n",
       " 'SELECT * FROM review r, useracct u WHERE u.u_id = r.u_id AND r.u_id=$1 ORDER BY rating DESC, r.creation_date DESC LIMIT 10',\n",
       " 'SELECT avg(rating) FROM review r, trust t WHERE r.u_id=t.target_u_id AND r.i_id=$1 AND t.source_u_id=$2',\n",
       " 'SELECT * FROM review r WHERE r.i_id=$1 ORDER BY creation_date DESC',\n",
       " 'SELECT * FROM review r, item i WHERE i.i_id = r.i_id and r.i_id=$1 ORDER BY rating DESC, r.creation_date DESC LIMIT 10',\n",
       " 'SELECT avg(rating) FROM review r WHERE r.i_id=$1',\n",
       " 'SELECT * FROM trust t WHERE t.source_u_id=$1',\n",
       " 'SELECT * FROM review r, useracct u WHERE u.u_id = r.u_id AND r.u_id=$1 ORDER BY rating DESC, r.creation_date DESC LIMIT 10',\n",
       " 'UPDATE review SET rating = $1 WHERE i_id=$2 AND u_id=$3',\n",
       " 'UPDATE trust SET trust = $1 WHERE source_u_id=$2 AND target_u_id=$3',\n",
       " 'UPDATE trust SET trust = $1 WHERE source_u_id=$2 AND target_u_id=$3',\n",
       " 'UPDATE useracct SET name = $1 WHERE u_id=$2',\n",
       " 'UPDATE useracct SET name = $1 WHERE u_id=$2']"
      ]
     },
     "execution_count": 13,
     "metadata": {},
     "output_type": "execute_result"
    }
   ],
   "source": [
    "queries"
   ]
  },
  {
   "cell_type": "code",
   "execution_count": 14,
   "id": "2895a4fa",
   "metadata": {},
   "outputs": [],
   "source": [
    "cleaned_queries = [re.sub(r'\\s+', ' ', q.replace('\\n', ' ')) for q in queries]"
   ]
  },
  {
   "cell_type": "code",
   "execution_count": 15,
   "id": "b5ba08f3",
   "metadata": {},
   "outputs": [
    {
     "data": {
      "text/plain": [
       "['UPDATE review SET rating = $1 WHERE i_id=$2 AND u_id=$3',\n",
       " 'SELECT * FROM review r WHERE r.i_id=$1 ORDER BY creation_date DESC',\n",
       " 'SELECT * FROM review r, item i WHERE i.i_id = r.i_id and r.i_id=$1 ORDER BY rating DESC, r.creation_date DESC LIMIT 10',\n",
       " 'SELECT avg(rating) FROM review r, trust t WHERE r.u_id=t.target_u_id AND r.i_id=$1 AND t.source_u_id=$2',\n",
       " 'UPDATE item SET title = $1 WHERE i_id=$2',\n",
       " 'UPDATE item SET title = $1 WHERE i_id=$2',\n",
       " 'SELECT * FROM trust t WHERE t.source_u_id=$1',\n",
       " 'SELECT avg(rating) FROM review r WHERE r.i_id=$1',\n",
       " 'SELECT * FROM review r, useracct u WHERE u.u_id = r.u_id AND r.u_id=$1 ORDER BY rating DESC, r.creation_date DESC LIMIT 10',\n",
       " 'SELECT avg(rating) FROM review r, trust t WHERE r.u_id=t.target_u_id AND r.i_id=$1 AND t.source_u_id=$2',\n",
       " 'SELECT * FROM review r WHERE r.i_id=$1 ORDER BY creation_date DESC',\n",
       " 'SELECT * FROM review r, item i WHERE i.i_id = r.i_id and r.i_id=$1 ORDER BY rating DESC, r.creation_date DESC LIMIT 10',\n",
       " 'SELECT avg(rating) FROM review r WHERE r.i_id=$1',\n",
       " 'SELECT * FROM trust t WHERE t.source_u_id=$1',\n",
       " 'SELECT * FROM review r, useracct u WHERE u.u_id = r.u_id AND r.u_id=$1 ORDER BY rating DESC, r.creation_date DESC LIMIT 10',\n",
       " 'UPDATE review SET rating = $1 WHERE i_id=$2 AND u_id=$3',\n",
       " 'UPDATE trust SET trust = $1 WHERE source_u_id=$2 AND target_u_id=$3',\n",
       " 'UPDATE trust SET trust = $1 WHERE source_u_id=$2 AND target_u_id=$3',\n",
       " 'UPDATE useracct SET name = $1 WHERE u_id=$2',\n",
       " 'UPDATE useracct SET name = $1 WHERE u_id=$2']"
      ]
     },
     "execution_count": 15,
     "metadata": {},
     "output_type": "execute_result"
    }
   ],
   "source": [
    "cleaned_queries"
   ]
  },
  {
   "cell_type": "code",
   "execution_count": 17,
   "id": "7959c136",
   "metadata": {},
   "outputs": [],
   "source": [
    "def is_interesting(q):\n",
    "    return q.startswith('execute') and not q.startswith('execute <unnamed>: COMMIT') and not q.startswith('execute <unnamed>: SET') and not q.startswith('execute <unnamed>: BEGIN') and not q.startswith('execute <unnamed>: SHOW ALL') and 'pg_' not in q"
   ]
  },
  {
   "cell_type": "code",
   "execution_count": 18,
   "id": "3106087f",
   "metadata": {},
   "outputs": [],
   "source": [
    "fqueries = [q for q in queries if is_interesting(q)]"
   ]
  },
  {
   "cell_type": "code",
   "execution_count": 19,
   "id": "430bb4d6",
   "metadata": {},
   "outputs": [
    {
     "name": "stdout",
     "output_type": "stream",
     "text": [
      "0\n"
     ]
    },
    {
     "data": {
      "text/plain": [
       "set()"
      ]
     },
     "execution_count": 19,
     "metadata": {},
     "output_type": "execute_result"
    }
   ],
   "source": [
    "relevant = [q for q in fqueries if 'WHERE' in q or 'ORDER' in q]\n",
    "print(len(set(relevant)))\n",
    "set(relevant)"
   ]
  },
  {
   "cell_type": "code",
   "execution_count": 20,
   "id": "6e5383fe",
   "metadata": {},
   "outputs": [],
   "source": [
    "def extract_where_columns(ast):\n",
    "    ast = ast['stmts']['stmt']['SelectStmt']\n",
    "    alias_map = dict()\n",
    "    "
   ]
  },
  {
   "cell_type": "code",
   "execution_count": 21,
   "id": "f09aa32a",
   "metadata": {},
   "outputs": [
    {
     "ename": "NameError",
     "evalue": "name 'pglast' is not defined",
     "output_type": "error",
     "traceback": [
      "\u001b[0;31m---------------------------------------------------------------------------\u001b[0m",
      "\u001b[0;31mNameError\u001b[0m                                 Traceback (most recent call last)",
      "\u001b[0;32m<ipython-input-21-cc77f4b4a996>\u001b[0m in \u001b[0;36m<module>\u001b[0;34m\u001b[0m\n\u001b[0;32m----> 1\u001b[0;31m \u001b[0mn\u001b[0m \u001b[0;34m=\u001b[0m \u001b[0mpglast\u001b[0m\u001b[0;34m.\u001b[0m\u001b[0mNode\u001b[0m\u001b[0;34m(\u001b[0m\u001b[0mpglast\u001b[0m\u001b[0;34m.\u001b[0m\u001b[0mparser\u001b[0m\u001b[0;34m.\u001b[0m\u001b[0mparse_sql\u001b[0m\u001b[0;34m(\u001b[0m\u001b[0;34m'SELECT * FROM review r join marks m on m.disk = r.disk WHERE r.i_id=$1 ORDER BY creation_date DESC'\u001b[0m\u001b[0;34m)\u001b[0m\u001b[0;34m)\u001b[0m\u001b[0;34m\u001b[0m\u001b[0;34m\u001b[0m\u001b[0m\n\u001b[0m",
      "\u001b[0;31mNameError\u001b[0m: name 'pglast' is not defined"
     ]
    }
   ],
   "source": [
    "n = pglast.Node(pglast.parser.parse_sql('SELECT * FROM review r join marks m on m.disk = r.disk WHERE r.i_id=$1 ORDER BY creation_date DESC'))"
   ]
  },
  {
   "cell_type": "code",
   "execution_count": null,
   "id": "54bfbf97",
   "metadata": {
    "scrolled": true
   },
   "outputs": [],
   "source": [
    "for node in n.traverse():\n",
    "    print(node)"
   ]
  },
  {
   "cell_type": "markdown",
   "id": "27186846",
   "metadata": {},
   "source": [
    "# Get all table columns\n",
    "select table_schema, table_name, column_name from information_schema.columns where table_schema = 'public';\n"
   ]
  },
  {
   "cell_type": "code",
   "execution_count": 2,
   "id": "d76b28c7",
   "metadata": {},
   "outputs": [
    {
     "name": "stdout",
     "output_type": "stream",
     "text": [
      "Collecting sql-metadata\n",
      "  Downloading sql_metadata-2.4.0-py3-none-any.whl (21 kB)\n",
      "Collecting sqlparse<0.5.0,>=0.4.1\n",
      "  Downloading sqlparse-0.4.2-py3-none-any.whl (42 kB)\n",
      "\u001b[2K     \u001b[90m━━━━━━━━━━━━━━━━━━━━━━━━━━━━━━━━━━━━━━━\u001b[0m \u001b[32m42.3/42.3 KB\u001b[0m \u001b[31m469.5 kB/s\u001b[0m eta \u001b[36m0:00:00\u001b[0m \u001b[36m0:00:01\u001b[0m\n",
      "\u001b[?25hInstalling collected packages: sqlparse, sql-metadata\n",
      "Successfully installed sql-metadata-2.4.0 sqlparse-0.4.2\n",
      "\u001b[33mWARNING: You are using pip version 22.0.3; however, version 22.0.4 is available.\n",
      "You should consider upgrading via the '/mnt/d/Projects/cmu/11637/11637Env/bin/python3.8 -m pip install --upgrade pip' command.\u001b[0m\u001b[33m\n",
      "\u001b[0m"
     ]
    }
   ],
   "source": [
    "!pip install sql-metadata"
   ]
  },
  {
   "cell_type": "code",
   "execution_count": 3,
   "id": "d9c1a2be",
   "metadata": {},
   "outputs": [],
   "source": [
    "from sql_metadata import Parser"
   ]
  },
  {
   "cell_type": "code",
   "execution_count": 6,
   "id": "f124aa42",
   "metadata": {},
   "outputs": [
    {
     "data": {
      "text/plain": [
       "['*', 'marks.disk', 'review.disk', 'review.i_id', 'creation_date']"
      ]
     },
     "execution_count": 6,
     "metadata": {},
     "output_type": "execute_result"
    }
   ],
   "source": [
    "q = 'SELECT * FROM review r join marks m on m.disk = r.disk WHERE r.i_id=$1 and r.disk=2 ORDER BY creation_date DESC'\n",
    "Parser(q).columns"
   ]
  },
  {
   "cell_type": "code",
   "execution_count": 88,
   "id": "62d38fcd",
   "metadata": {
    "scrolled": true
   },
   "outputs": [
    {
     "data": {
      "text/html": [
       "<div id=\"f80a532f-7132-4120-831b-4a8187d470de\" style=\"height: 600px; width:100%;font: 12px/18px monospace !important;\"></div>"
      ]
     },
     "metadata": {},
     "output_type": "display_data"
    },
    {
     "data": {
      "application/javascript": [
       "\n",
       "        require([\"https://rawgit.com/caldwell/renderjson/master/renderjson.js\"], function() {\n",
       "            renderjson.set_show_to_level(10);\n",
       "            document.getElementById('f80a532f-7132-4120-831b-4a8187d470de').appendChild(renderjson({\"version\": 130003, \"stmts\": [{\"stmt\": {\"SelectStmt\": {\"targetList\": [{\"ResTarget\": {\"val\": {\"ColumnRef\": {\"fields\": [{\"A_Star\": {}}], \"location\": 7}}, \"location\": 7}}], \"fromClause\": [{\"JoinExpr\": {\"jointype\": \"JOIN_INNER\", \"larg\": {\"RangeVar\": {\"relname\": \"review\", \"inh\": true, \"relpersistence\": \"p\", \"alias\": {\"aliasname\": \"r\"}, \"location\": 14}}, \"rarg\": {\"RangeVar\": {\"relname\": \"marks\", \"inh\": true, \"relpersistence\": \"p\", \"alias\": {\"aliasname\": \"m\"}, \"location\": 28}}, \"quals\": {\"A_Expr\": {\"kind\": \"AEXPR_OP\", \"name\": [{\"String\": {\"str\": \"=\"}}], \"lexpr\": {\"ColumnRef\": {\"fields\": [{\"String\": {\"str\": \"m\"}}, {\"String\": {\"str\": \"disk\"}}], \"location\": 39}}, \"rexpr\": {\"ColumnRef\": {\"fields\": [{\"String\": {\"str\": \"r\"}}, {\"String\": {\"str\": \"disk\"}}], \"location\": 48}}, \"location\": 46}}}}], \"whereClause\": {\"BoolExpr\": {\"boolop\": \"AND_EXPR\", \"args\": [{\"A_Expr\": {\"kind\": \"AEXPR_OP\", \"name\": [{\"String\": {\"str\": \"=\"}}], \"lexpr\": {\"ColumnRef\": {\"fields\": [{\"String\": {\"str\": \"r\"}}, {\"String\": {\"str\": \"i_id\"}}], \"location\": 61}}, \"rexpr\": {\"ParamRef\": {\"number\": 1, \"location\": 68}}, \"location\": 67}}, {\"A_Expr\": {\"kind\": \"AEXPR_OP\", \"name\": [{\"String\": {\"str\": \"=\"}}], \"lexpr\": {\"ColumnRef\": {\"fields\": [{\"String\": {\"str\": \"r\"}}, {\"String\": {\"str\": \"disk\"}}], \"location\": 75}}, \"rexpr\": {\"A_Const\": {\"val\": {\"Integer\": {\"ival\": 2}}, \"location\": 82}}, \"location\": 81}}], \"location\": 71}}, \"sortClause\": [{\"SortBy\": {\"node\": {\"ColumnRef\": {\"fields\": [{\"String\": {\"str\": \"creation_date\"}}], \"location\": 93}}, \"sortby_dir\": \"SORTBY_DESC\", \"sortby_nulls\": \"SORTBY_NULLS_DEFAULT\", \"location\": -1}}], \"limitOption\": \"LIMIT_OPTION_DEFAULT\", \"op\": \"SETOP_NONE\"}}}]}))\n",
       "        });\n",
       "      "
      ]
     },
     "metadata": {},
     "output_type": "display_data"
    }
   ],
   "source": [
    "RenderJSON(json.loads(pglast.parser.parse_sql_json('SELECT * FROM review r join marks m on m.disk = r.disk WHERE r.i_id=$1 and r.disk=2 ORDER BY creation_date DESC')))"
   ]
  },
  {
   "cell_type": "code",
   "execution_count": 90,
   "id": "b967703b",
   "metadata": {},
   "outputs": [],
   "source": [
    "\"\"\"select json_build_object('table_schema', json_agg(table_schema), 'table_name', json_agg(table_name), 'column_name', json_agg(column_name)) from information_schema.columns where table_schema = 'public';\n",
    "\"\"\"\n",
    "s = '{\"table_schema\" : [\"public\", \"public\", \"public\", \"public\", \"public\", \"public\", \"public\", \"public\", \"public\", \"public\", \"public\", \"public\", \"public\", \"public\", \"public\", \"public\", \"public\", \"public\", \"public\", \"public\", \"public\", \"public\", \"public\", \"public\", \"public\", \"public\", \"public\", \"public\", \"public\", \"public\", \"public\", \"public\", \"public\", \"public\"], \"table_name\" : [\"useracct\", \"review_rating\", \"review_rating\", \"review_rating\", \"review_rating\", \"trust\", \"trust\", \"trust\", \"trust\", \"hypopg_list_indexes\", \"hypo\", \"useracct\", \"item\", \"item\", \"review\", \"review\", \"review\", \"review\", \"review\", \"review\", \"review_rating\", \"review_rating\", \"review_rating\", \"review_rating\", \"useracct\", \"useracct\", \"hypo\", \"hypopg_list_indexes\", \"item\", \"item\", \"review\", \"hypopg_list_indexes\", \"hypopg_list_indexes\", \"hypopg_list_indexes\"], \"column_name\" : [\"u_id\", \"creation_date\", \"last_mod_date\", \"type\", \"vertical_id\", \"source_u_id\", \"target_u_id\", \"trust\", \"creation_date\", \"indexrelid\", \"id\", \"creation_date\", \"i_id\", \"creation_date\", \"a_id\", \"u_id\", \"i_id\", \"rating\", \"rank\", \"creation_date\", \"u_id\", \"a_id\", \"rating\", \"status\", \"name\", \"email\", \"val\", \"index_name\", \"title\", \"description\", \"comment\", \"schema_name\", \"table_name\", \"am_name\"]}'\n",
    "columns = json.loads(s)"
   ]
  },
  {
   "cell_type": "code",
   "execution_count": 91,
   "id": "83a42ada",
   "metadata": {
    "scrolled": true
   },
   "outputs": [
    {
     "data": {
      "text/plain": [
       "{'table_schema': ['public',\n",
       "  'public',\n",
       "  'public',\n",
       "  'public',\n",
       "  'public',\n",
       "  'public',\n",
       "  'public',\n",
       "  'public',\n",
       "  'public',\n",
       "  'public',\n",
       "  'public',\n",
       "  'public',\n",
       "  'public',\n",
       "  'public',\n",
       "  'public',\n",
       "  'public',\n",
       "  'public',\n",
       "  'public',\n",
       "  'public',\n",
       "  'public',\n",
       "  'public',\n",
       "  'public',\n",
       "  'public',\n",
       "  'public',\n",
       "  'public',\n",
       "  'public',\n",
       "  'public',\n",
       "  'public',\n",
       "  'public',\n",
       "  'public',\n",
       "  'public',\n",
       "  'public',\n",
       "  'public',\n",
       "  'public'],\n",
       " 'table_name': ['useracct',\n",
       "  'review_rating',\n",
       "  'review_rating',\n",
       "  'review_rating',\n",
       "  'review_rating',\n",
       "  'trust',\n",
       "  'trust',\n",
       "  'trust',\n",
       "  'trust',\n",
       "  'hypopg_list_indexes',\n",
       "  'hypo',\n",
       "  'useracct',\n",
       "  'item',\n",
       "  'item',\n",
       "  'review',\n",
       "  'review',\n",
       "  'review',\n",
       "  'review',\n",
       "  'review',\n",
       "  'review',\n",
       "  'review_rating',\n",
       "  'review_rating',\n",
       "  'review_rating',\n",
       "  'review_rating',\n",
       "  'useracct',\n",
       "  'useracct',\n",
       "  'hypo',\n",
       "  'hypopg_list_indexes',\n",
       "  'item',\n",
       "  'item',\n",
       "  'review',\n",
       "  'hypopg_list_indexes',\n",
       "  'hypopg_list_indexes',\n",
       "  'hypopg_list_indexes'],\n",
       " 'column_name': ['u_id',\n",
       "  'creation_date',\n",
       "  'last_mod_date',\n",
       "  'type',\n",
       "  'vertical_id',\n",
       "  'source_u_id',\n",
       "  'target_u_id',\n",
       "  'trust',\n",
       "  'creation_date',\n",
       "  'indexrelid',\n",
       "  'id',\n",
       "  'creation_date',\n",
       "  'i_id',\n",
       "  'creation_date',\n",
       "  'a_id',\n",
       "  'u_id',\n",
       "  'i_id',\n",
       "  'rating',\n",
       "  'rank',\n",
       "  'creation_date',\n",
       "  'u_id',\n",
       "  'a_id',\n",
       "  'rating',\n",
       "  'status',\n",
       "  'name',\n",
       "  'email',\n",
       "  'val',\n",
       "  'index_name',\n",
       "  'title',\n",
       "  'description',\n",
       "  'comment',\n",
       "  'schema_name',\n",
       "  'table_name',\n",
       "  'am_name']}"
      ]
     },
     "execution_count": 91,
     "metadata": {},
     "output_type": "execute_result"
    }
   ],
   "source": [
    "columns"
   ]
  },
  {
   "cell_type": "code",
   "execution_count": 94,
   "id": "bb90bb7a",
   "metadata": {},
   "outputs": [],
   "source": [
    "attrs = list(zip(*(val for val in columns.values())))"
   ]
  },
  {
   "cell_type": "code",
   "execution_count": 95,
   "id": "51bab79e",
   "metadata": {},
   "outputs": [
    {
     "data": {
      "text/plain": [
       "[('public', 'useracct', 'u_id'),\n",
       " ('public', 'review_rating', 'creation_date'),\n",
       " ('public', 'review_rating', 'last_mod_date'),\n",
       " ('public', 'review_rating', 'type'),\n",
       " ('public', 'review_rating', 'vertical_id'),\n",
       " ('public', 'trust', 'source_u_id'),\n",
       " ('public', 'trust', 'target_u_id'),\n",
       " ('public', 'trust', 'trust'),\n",
       " ('public', 'trust', 'creation_date'),\n",
       " ('public', 'hypopg_list_indexes', 'indexrelid'),\n",
       " ('public', 'hypo', 'id'),\n",
       " ('public', 'useracct', 'creation_date'),\n",
       " ('public', 'item', 'i_id'),\n",
       " ('public', 'item', 'creation_date'),\n",
       " ('public', 'review', 'a_id'),\n",
       " ('public', 'review', 'u_id'),\n",
       " ('public', 'review', 'i_id'),\n",
       " ('public', 'review', 'rating'),\n",
       " ('public', 'review', 'rank'),\n",
       " ('public', 'review', 'creation_date'),\n",
       " ('public', 'review_rating', 'u_id'),\n",
       " ('public', 'review_rating', 'a_id'),\n",
       " ('public', 'review_rating', 'rating'),\n",
       " ('public', 'review_rating', 'status'),\n",
       " ('public', 'useracct', 'name'),\n",
       " ('public', 'useracct', 'email'),\n",
       " ('public', 'hypo', 'val'),\n",
       " ('public', 'hypopg_list_indexes', 'index_name'),\n",
       " ('public', 'item', 'title'),\n",
       " ('public', 'item', 'description'),\n",
       " ('public', 'review', 'comment'),\n",
       " ('public', 'hypopg_list_indexes', 'schema_name'),\n",
       " ('public', 'hypopg_list_indexes', 'table_name'),\n",
       " ('public', 'hypopg_list_indexes', 'am_name')]"
      ]
     },
     "execution_count": 95,
     "metadata": {},
     "output_type": "execute_result"
    }
   ],
   "source": [
    "attrs"
   ]
  },
  {
   "cell_type": "code",
   "execution_count": 104,
   "id": "2cc61af5",
   "metadata": {},
   "outputs": [
    {
     "name": "stdout",
     "output_type": "stream",
     "text": [
      "SELECT * FROM trust t JOIN (SELECT T FROM X WHERE T.i = 1) WHERE t.source_u_id=$1\n"
     ]
    },
    {
     "data": {
      "text/plain": [
       "'  X WHERE T.i = 1) WHERE t.source_u_id=$1'"
      ]
     },
     "execution_count": 104,
     "metadata": {},
     "output_type": "execute_result"
    }
   ],
   "source": [
    "q = 'SELECT * FROM trust t JOIN (SELECT T FROM X WHERE T.i = 1) WHERE t.source_u_id=$1'\n",
    "print(q)\n",
    "re.sub(r'SELECT.*FROM', ' ', q)"
   ]
  },
  {
   "cell_type": "code",
   "execution_count": 105,
   "id": "7539d8c9",
   "metadata": {},
   "outputs": [
    {
     "name": "stdout",
     "output_type": "stream",
     "text": [
      "SELECT * FROM trust t WHERE t.source_u_id=$1\n",
      "[('trust', 'source_u_id'), ('trust', 'trust')]\n",
      "UPDATE trust SET trust = $1 WHERE source_u_id=$2 AND target_u_id=$3\n",
      "[('trust', 'source_u_id'), ('trust', 'target_u_id'), ('trust', 'trust')]\n",
      "UPDATE item SET title = $1 WHERE i_id=$2\n",
      "[('item', 'i_id'), ('item', 'title')]\n",
      "UPDATE review SET rating = $1 WHERE i_id=$2 AND u_id=$3\n",
      "[('review', 'u_id'), ('review', 'i_id'), ('review', 'rating')]\n",
      "SELECT * FROM review r WHERE r.i_id=$1 ORDER BY creation_date DESC\n",
      "[('review', 'i_id'), ('review', 'creation_date')]\n",
      "SELECT * FROM review r WHERE r.i_id=$1 ORDER BY creation_date DESC\n",
      "[('review', 'i_id'), ('review', 'creation_date')]\n",
      "SELECT avg(rating) FROM review r, trust t WHERE r.u_id=t.target_u_id AND r.i_id=$1 AND t.source_u_id=$2\n",
      "[('trust', 'source_u_id'), ('trust', 'target_u_id'), ('trust', 'trust'), ('review', 'u_id'), ('review', 'i_id')]\n",
      "UPDATE useracct SET name = $1 WHERE u_id=$2\n",
      "[('useracct', 'u_id'), ('useracct', 'name')]\n",
      "UPDATE trust SET trust = $1 WHERE source_u_id=$2 AND target_u_id=$3\n",
      "[('trust', 'source_u_id'), ('trust', 'target_u_id'), ('trust', 'trust')]\n",
      "SELECT * FROM review r, useracct u WHERE u.u_id = r.u_id AND r.u_id=$1 ORDER BY rating DESC, r.creation_date DESC LIMIT 10\n",
      "[('useracct', 'u_id'), ('useracct', 'creation_date'), ('review', 'u_id'), ('review', 'rating'), ('review', 'creation_date')]\n",
      "UPDATE review SET rating = $1 WHERE i_id=$2 AND u_id=$3\n",
      "[('review', 'u_id'), ('review', 'i_id'), ('review', 'rating')]\n",
      "SELECT avg(rating) FROM review r WHERE r.i_id=$1\n",
      "[('review', 'i_id')]\n",
      "SELECT * FROM trust t WHERE t.source_u_id=$1\n",
      "[('trust', 'source_u_id'), ('trust', 'trust')]\n",
      "SELECT * FROM review r, item i WHERE i.i_id = r.i_id and r.i_id=$1 ORDER BY rating DESC, r.creation_date DESC LIMIT 10\n",
      "[('item', 'i_id'), ('item', 'creation_date'), ('review', 'i_id'), ('review', 'rating'), ('review', 'creation_date')]\n",
      "UPDATE item SET title = $1 WHERE i_id=$2\n",
      "[('item', 'i_id'), ('item', 'title')]\n",
      "UPDATE useracct SET name = $1 WHERE u_id=$2\n",
      "[('useracct', 'u_id'), ('useracct', 'name')]\n",
      "SELECT * FROM review r, useracct u WHERE u.u_id = r.u_id AND r.u_id=$1 ORDER BY rating DESC, r.creation_date DESC LIMIT 10\n",
      "[('useracct', 'u_id'), ('useracct', 'creation_date'), ('review', 'u_id'), ('review', 'rating'), ('review', 'creation_date')]\n",
      "SELECT avg(rating) FROM review r WHERE r.i_id=$1\n",
      "[('review', 'i_id')]\n",
      "SELECT avg(rating) FROM review r, trust t WHERE r.u_id=t.target_u_id AND r.i_id=$1 AND t.source_u_id=$2\n",
      "[('trust', 'source_u_id'), ('trust', 'target_u_id'), ('trust', 'trust'), ('review', 'u_id'), ('review', 'i_id')]\n",
      "SELECT * FROM review r, item i WHERE i.i_id = r.i_id and r.i_id=$1 ORDER BY rating DESC, r.creation_date DESC LIMIT 10\n",
      "[('item', 'i_id'), ('item', 'creation_date'), ('review', 'i_id'), ('review', 'rating'), ('review', 'creation_date')]\n"
     ]
    }
   ],
   "source": [
    "parsed_columns = []\n",
    "\n",
    "for q in cleaned_queries:\n",
    "    rel_q  = re.sub(r'SELECT.*FROM', ' ', q)\n",
    "    q_col = []\n",
    "    for _, table, attr in attrs:\n",
    "        if table in rel_q and attr in rel_q:\n",
    "            q_col.append((table, attr))\n",
    "    parsed_columns.append((q, q_col))\n",
    "    print(q)\n",
    "    print(q_col)\n",
    "            \n",
    "            "
   ]
  },
  {
   "cell_type": "code",
   "execution_count": 43,
   "id": "1c49777e",
   "metadata": {},
   "outputs": [
    {
     "data": {
      "text/plain": [
       "'{\"version\":130003,\"stmts\":[{\"stmt\":{\"SelectStmt\":{\"targetList\":[{\"ResTarget\":{\"val\":{\"ColumnRef\":{\"fields\":[{\"A_Star\":{}}],\"location\":7}},\"location\":7}}],\"fromClause\":[{\"RangeVar\":{\"relname\":\"review\",\"inh\":true,\"relpersistence\":\"p\",\"alias\":{\"aliasname\":\"r\"},\"location\":14}},{\"RangeVar\":{\"relname\":\"useracct\",\"inh\":true,\"relpersistence\":\"p\",\"alias\":{\"aliasname\":\"u\"},\"location\":24}}],\"whereClause\":{\"BoolExpr\":{\"boolop\":\"AND_EXPR\",\"args\":[{\"A_Expr\":{\"kind\":\"AEXPR_OP\",\"name\":[{\"String\":{\"str\":\"=\"}}],\"lexpr\":{\"ColumnRef\":{\"fields\":[{\"String\":{\"str\":\"u\"}},{\"String\":{\"str\":\"u_id\"}}],\"location\":41}},\"rexpr\":{\"ColumnRef\":{\"fields\":[{\"String\":{\"str\":\"r\"}},{\"String\":{\"str\":\"u_id\"}}],\"location\":50}},\"location\":48}},{\"A_Expr\":{\"kind\":\"AEXPR_OP\",\"name\":[{\"String\":{\"str\":\"=\"}}],\"lexpr\":{\"ColumnRef\":{\"fields\":[{\"String\":{\"str\":\"r\"}},{\"String\":{\"str\":\"u_id\"}}],\"location\":61}},\"rexpr\":{\"ParamRef\":{\"number\":1,\"location\":68}},\"location\":67}}],\"location\":57}},\"sortClause\":[{\"SortBy\":{\"node\":{\"ColumnRef\":{\"fields\":[{\"String\":{\"str\":\"rating\"}}],\"location\":80}},\"sortby_dir\":\"SORTBY_DESC\",\"sortby_nulls\":\"SORTBY_NULLS_DEFAULT\",\"location\":-1}},{\"SortBy\":{\"node\":{\"ColumnRef\":{\"fields\":[{\"String\":{\"str\":\"r\"}},{\"String\":{\"str\":\"creation_date\"}}],\"location\":93}},\"sortby_dir\":\"SORTBY_DESC\",\"sortby_nulls\":\"SORTBY_NULLS_DEFAULT\",\"location\":-1}}],\"limitCount\":{\"A_Const\":{\"val\":{\"Integer\":{\"ival\":10}},\"location\":120}},\"limitOption\":\"LIMIT_OPTION_COUNT\",\"op\":\"SETOP_NONE\"}}}]}'"
      ]
     },
     "execution_count": 43,
     "metadata": {},
     "output_type": "execute_result"
    }
   ],
   "source": [
    "pglast.parser.parse_sql_json('SELECT * FROM review r, useracct u WHERE u.u_id = r.u_id AND r.u_id=$1 ORDER BY rating DESC, r.creation_date DESC LIMIT 10')"
   ]
  },
  {
   "cell_type": "code",
   "execution_count": 44,
   "id": "4cdbdf21",
   "metadata": {},
   "outputs": [
    {
     "data": {
      "text/plain": [
       "'{\"version\":130003,\"stmts\":[{\"stmt\":{\"SelectStmt\":{\"targetList\":[{\"ResTarget\":{\"val\":{\"ColumnRef\":{\"fields\":[{\"A_Star\":{}}],\"location\":7}},\"location\":7}}],\"fromClause\":[{\"RangeVar\":{\"relname\":\"review\",\"inh\":true,\"relpersistence\":\"p\",\"alias\":{\"aliasname\":\"r\"},\"location\":14}},{\"JoinExpr\":{\"jointype\":\"JOIN_INNER\",\"larg\":{\"RangeVar\":{\"relname\":\"useracct\",\"inh\":true,\"relpersistence\":\"p\",\"alias\":{\"aliasname\":\"u\"},\"location\":24}},\"rarg\":{\"RangeSubselect\":{\"subquery\":{\"SelectStmt\":{\"targetList\":[{\"ResTarget\":{\"val\":{\"ColumnRef\":{\"fields\":[{\"String\":{\"str\":\"cake_id\"}}],\"location\":48}},\"location\":48}}],\"fromClause\":[{\"RangeVar\":{\"relname\":\"cakes\",\"inh\":true,\"relpersistence\":\"p\",\"location\":61}}],\"limitOption\":\"LIMIT_OPTION_DEFAULT\",\"op\":\"SETOP_NONE\"}},\"alias\":{\"aliasname\":\"cake\"}}},\"quals\":{\"A_Expr\":{\"kind\":\"AEXPR_OP\",\"name\":[{\"String\":{\"str\":\"=\"}}],\"lexpr\":{\"ColumnRef\":{\"fields\":[{\"String\":{\"str\":\"r\"}},{\"String\":{\"str\":\"cake_id\"}}],\"location\":79}},\"rexpr\":{\"ColumnRef\":{\"fields\":[{\"String\":{\"str\":\"cake\"}},{\"String\":{\"str\":\"cake_id\"}}],\"location\":91}},\"location\":89}}}}],\"limitOption\":\"LIMIT_OPTION_DEFAULT\",\"op\":\"SETOP_NONE\"}}}]}'"
      ]
     },
     "execution_count": 44,
     "metadata": {},
     "output_type": "execute_result"
    }
   ],
   "source": [
    "pglast.parser.parse_sql_json('SELECT * FROM review r, useracct u join (select cake_id from cakes) as cake on r.cake_id = cake.cake_id')"
   ]
  },
  {
   "cell_type": "code",
   "execution_count": 7,
   "id": "c305384d",
   "metadata": {},
   "outputs": [
    {
     "data": {
      "text/html": [
       "<div>\n",
       "<style scoped>\n",
       "    .dataframe tbody tr th:only-of-type {\n",
       "        vertical-align: middle;\n",
       "    }\n",
       "\n",
       "    .dataframe tbody tr th {\n",
       "        vertical-align: top;\n",
       "    }\n",
       "\n",
       "    .dataframe thead th {\n",
       "        text-align: right;\n",
       "    }\n",
       "</style>\n",
       "<table border=\"1\" class=\"dataframe\">\n",
       "  <thead>\n",
       "    <tr style=\"text-align: right;\">\n",
       "      <th></th>\n",
       "      <th>0</th>\n",
       "      <th>1</th>\n",
       "      <th>2</th>\n",
       "      <th>3</th>\n",
       "    </tr>\n",
       "  </thead>\n",
       "  <tbody>\n",
       "    <tr>\n",
       "      <th>count</th>\n",
       "      <td>1929</td>\n",
       "      <td>1918</td>\n",
       "      <td>1918</td>\n",
       "      <td>1929</td>\n",
       "    </tr>\n",
       "    <tr>\n",
       "      <th>unique</th>\n",
       "      <td>1304</td>\n",
       "      <td>2</td>\n",
       "      <td>7</td>\n",
       "      <td>72</td>\n",
       "    </tr>\n",
       "    <tr>\n",
       "      <th>top</th>\n",
       "      <td>2022-02-20 20:47:38.897 UTC</td>\n",
       "      <td>project1user</td>\n",
       "      <td>BEGIN</td>\n",
       "      <td>execute S_1: COMMIT</td>\n",
       "    </tr>\n",
       "    <tr>\n",
       "      <th>freq</th>\n",
       "      <td>3</td>\n",
       "      <td>1915</td>\n",
       "      <td>606</td>\n",
       "      <td>602</td>\n",
       "    </tr>\n",
       "  </tbody>\n",
       "</table>\n",
       "</div>"
      ],
      "text/plain": [
       "                                  0             1      2                    3\n",
       "count                          1929          1918   1918                 1929\n",
       "unique                         1304             2      7                   72\n",
       "top     2022-02-20 20:47:38.897 UTC  project1user  BEGIN  execute S_1: COMMIT\n",
       "freq                              3          1915    606                  602"
      ]
     },
     "execution_count": 7,
     "metadata": {},
     "output_type": "execute_result"
    }
   ],
   "source": [
    "df.describe()"
   ]
  },
  {
   "cell_type": "code",
   "execution_count": 12,
   "id": "b109350e",
   "metadata": {},
   "outputs": [
    {
     "data": {
      "text/html": [
       "<div>\n",
       "<style scoped>\n",
       "    .dataframe tbody tr th:only-of-type {\n",
       "        vertical-align: middle;\n",
       "    }\n",
       "\n",
       "    .dataframe tbody tr th {\n",
       "        vertical-align: top;\n",
       "    }\n",
       "\n",
       "    .dataframe thead th {\n",
       "        text-align: right;\n",
       "    }\n",
       "</style>\n",
       "<table border=\"1\" class=\"dataframe\">\n",
       "  <thead>\n",
       "    <tr style=\"text-align: right;\">\n",
       "      <th></th>\n",
       "      <th>0</th>\n",
       "      <th>1</th>\n",
       "      <th>2</th>\n",
       "    </tr>\n",
       "    <tr>\n",
       "      <th>3</th>\n",
       "      <th></th>\n",
       "      <th></th>\n",
       "      <th></th>\n",
       "    </tr>\n",
       "  </thead>\n",
       "  <tbody>\n",
       "    <tr>\n",
       "      <th>aborting any active transactions</th>\n",
       "      <td>1</td>\n",
       "      <td>0</td>\n",
       "      <td>0</td>\n",
       "    </tr>\n",
       "    <tr>\n",
       "      <th>listening on IPv4 address \"127.0.0.1\", port 5432</th>\n",
       "      <td>1</td>\n",
       "      <td>0</td>\n",
       "      <td>0</td>\n",
       "    </tr>\n",
       "    <tr>\n",
       "      <th>listening on Unix socket \"/var/run/postgresql/.s.PGSQL.5432\"</th>\n",
       "      <td>1</td>\n",
       "      <td>0</td>\n",
       "      <td>0</td>\n",
       "    </tr>\n",
       "    <tr>\n",
       "      <th>received fast shutdown request</th>\n",
       "      <td>1</td>\n",
       "      <td>0</td>\n",
       "      <td>0</td>\n",
       "    </tr>\n",
       "    <tr>\n",
       "      <th>starting PostgreSQL 14.2 (Ubuntu 14.2-1.pgdg18.04+1) on x86_64-pc-linux-gnu, compiled by gcc (Ubuntu 7.5.0-3ubuntu1~18.04) 7.5.0, 64-bit</th>\n",
       "      <td>1</td>\n",
       "      <td>0</td>\n",
       "      <td>0</td>\n",
       "    </tr>\n",
       "    <tr>\n",
       "      <th>...</th>\n",
       "      <td>...</td>\n",
       "      <td>...</td>\n",
       "      <td>...</td>\n",
       "    </tr>\n",
       "    <tr>\n",
       "      <th>execute S_5: SELECT avg(rating) FROM review r WHERE r.i_id=$1</th>\n",
       "      <td>60</td>\n",
       "      <td>60</td>\n",
       "      <td>60</td>\n",
       "    </tr>\n",
       "    <tr>\n",
       "      <th>execute S_10: SELECT * FROM review r, item i WHERE i.i_id = r.i_id and r.i_id=$1 ORDER BY rating DESC, r.creation_date DESC LIMIT 10</th>\n",
       "      <td>66</td>\n",
       "      <td>66</td>\n",
       "      <td>66</td>\n",
       "    </tr>\n",
       "    <tr>\n",
       "      <th>execute S_3: UPDATE trust SET trust = $1 WHERE source_u_id=$2 AND target_u_id=$3</th>\n",
       "      <td>114</td>\n",
       "      <td>114</td>\n",
       "      <td>114</td>\n",
       "    </tr>\n",
       "    <tr>\n",
       "      <th>execute S_2: BEGIN</th>\n",
       "      <td>589</td>\n",
       "      <td>589</td>\n",
       "      <td>589</td>\n",
       "    </tr>\n",
       "    <tr>\n",
       "      <th>execute S_1: COMMIT</th>\n",
       "      <td>602</td>\n",
       "      <td>602</td>\n",
       "      <td>602</td>\n",
       "    </tr>\n",
       "  </tbody>\n",
       "</table>\n",
       "<p>72 rows × 3 columns</p>\n",
       "</div>"
      ],
      "text/plain": [
       "                                                      0    1    2\n",
       "3                                                                \n",
       "aborting any active transactions                      1    0    0\n",
       "listening on IPv4 address \"127.0.0.1\", port 5432      1    0    0\n",
       "listening on Unix socket \"/var/run/postgresql/....    1    0    0\n",
       "received fast shutdown request                        1    0    0\n",
       "starting PostgreSQL 14.2 (Ubuntu 14.2-1.pgdg18....    1    0    0\n",
       "...                                                 ...  ...  ...\n",
       "execute S_5: SELECT avg(rating) FROM review r W...   60   60   60\n",
       "execute S_10: SELECT * FROM review r, item i WH...   66   66   66\n",
       "execute S_3: UPDATE trust SET trust = $1 WHERE ...  114  114  114\n",
       "execute S_2: BEGIN                                  589  589  589\n",
       "execute S_1: COMMIT                                 602  602  602\n",
       "\n",
       "[72 rows x 3 columns]"
      ]
     },
     "execution_count": 12,
     "metadata": {},
     "output_type": "execute_result"
    }
   ],
   "source": [
    "df.groupby(3).count().sort_values(1)"
   ]
  },
  {
   "cell_type": "code",
   "execution_count": 22,
   "id": "43e31673",
   "metadata": {},
   "outputs": [],
   "source": [
    "import pglast\n"
   ]
  },
  {
   "cell_type": "code",
   "execution_count": 23,
   "id": "eaea9f85",
   "metadata": {},
   "outputs": [],
   "source": [
    "from pglast import parse_sql"
   ]
  },
  {
   "cell_type": "code",
   "execution_count": 24,
   "id": "63e55700",
   "metadata": {},
   "outputs": [],
   "source": [
    "q = 'SELECT * FROM review r join marks m on m.disk = r.disk WHERE r.i_id=$1 ORDER BY creation_date DESC'"
   ]
  },
  {
   "cell_type": "code",
   "execution_count": 25,
   "id": "f907e3e9",
   "metadata": {},
   "outputs": [
    {
     "data": {
      "text/plain": [
       "(<RawStmt stmt=<SelectStmt targetList=(<ResTarget val=<ColumnRef fields=(<A_Star>,)>>,) fromClause=(<JoinExpr jointype=<JoinType.JOIN_INNER: 0> isNatural=False larg=<RangeVar relname='review' inh=True relpersistence='p' alias=<Alias aliasname='r'>> rarg=<RangeVar relname='marks' inh=True relpersistence='p' alias=<Alias aliasname='m'>> quals=<A_Expr kind=<A_Expr_Kind.AEXPR_OP: 0> name=(<String val='='>,) lexpr=<ColumnRef fields=(<String val='m'>, <String val='disk'>)> rexpr=<ColumnRef fields=(<String val='r'>, <String val='disk'>)>> rtindex=0>,) whereClause=<A_Expr kind=<A_Expr_Kind.AEXPR_OP: 0> name=(<String val='='>,) lexpr=<ColumnRef fields=(<String val='r'>, <String val='i_id'>)> rexpr=<ParamRef number=1>> sortClause=(<SortBy node=<ColumnRef fields=(<String val='creation_date'>,)> sortby_dir=<SortByDir.SORTBY_DESC: 2> sortby_nulls=<SortByNulls.SORTBY_NULLS_DEFAULT: 0>>,) limitOption=<LimitOption.LIMIT_OPTION_DEFAULT: 0> op=<SetOperation.SETOP_NONE: 0> all=False> stmt_location=0 stmt_len=0>,)"
      ]
     },
     "execution_count": 25,
     "metadata": {},
     "output_type": "execute_result"
    }
   ],
   "source": [
    "parse_sql(q)"
   ]
  },
  {
   "cell_type": "code",
   "execution_count": 27,
   "id": "c145a205",
   "metadata": {},
   "outputs": [
    {
     "data": {
      "text/plain": [
       "{'version': 130003,\n",
       " 'stmts': [{'stmt': {'SelectStmt': {'targetList': [{'ResTarget': {'val': {'ColumnRef': {'fields': [{'A_Star': {}}],\n",
       "          'location': 7}},\n",
       "        'location': 7}}],\n",
       "     'fromClause': [{'RangeVar': {'relname': 'review',\n",
       "        'inh': True,\n",
       "        'relpersistence': 'p',\n",
       "        'alias': {'aliasname': 'r'},\n",
       "        'location': 14}}],\n",
       "     'whereClause': {'A_Expr': {'kind': 'AEXPR_OP',\n",
       "       'name': [{'String': {'str': '='}}],\n",
       "       'lexpr': {'ColumnRef': {'fields': [{'String': {'str': 'r'}},\n",
       "          {'String': {'str': 'i_id'}}],\n",
       "         'location': 29}},\n",
       "       'rexpr': {'A_Const': {'val': {'Integer': {'ival': 100}},\n",
       "         'location': 36}},\n",
       "       'location': 35}},\n",
       "     'sortClause': [{'SortBy': {'node': {'ColumnRef': {'fields': [{'String': {'str': 'creation_date'}}],\n",
       "          'location': 49}},\n",
       "        'sortby_dir': 'SORTBY_DESC',\n",
       "        'sortby_nulls': 'SORTBY_NULLS_DEFAULT',\n",
       "        'location': -1}}],\n",
       "     'limitOption': 'LIMIT_OPTION_DEFAULT',\n",
       "     'op': 'SETOP_NONE'}}}]}"
      ]
     },
     "execution_count": 27,
     "metadata": {},
     "output_type": "execute_result"
    }
   ],
   "source": [
    "json.loads(pglast.parser.parse_sql_json('SELECT * FROM review r WHERE r.i_id=100 ORDER BY creation_date DESC'))"
   ]
  },
  {
   "cell_type": "code",
   "execution_count": 45,
   "id": "daeb5ecf",
   "metadata": {},
   "outputs": [
    {
     "data": {
      "text/plain": [
       "'{\"version\":130003,\"stmts\":[{\"stmt\":{\"UpdateStmt\":{\"relation\":{\"relname\":\"review\",\"inh\":true,\"relpersistence\":\"p\",\"location\":7},\"targetList\":[{\"ResTarget\":{\"name\":\"rating\",\"val\":{\"ParamRef\":{\"number\":1,\"location\":27}},\"location\":18}}],\"whereClause\":{\"BoolExpr\":{\"boolop\":\"AND_EXPR\",\"args\":[{\"A_Expr\":{\"kind\":\"AEXPR_OP\",\"name\":[{\"String\":{\"str\":\"=\"}}],\"lexpr\":{\"ColumnRef\":{\"fields\":[{\"String\":{\"str\":\"i_id\"}}],\"location\":36}},\"rexpr\":{\"ParamRef\":{\"number\":2,\"location\":41}},\"location\":40}},{\"A_Expr\":{\"kind\":\"AEXPR_OP\",\"name\":[{\"String\":{\"str\":\"=\"}}],\"lexpr\":{\"ColumnRef\":{\"fields\":[{\"String\":{\"str\":\"u_id\"}}],\"location\":48}},\"rexpr\":{\"ParamRef\":{\"number\":3,\"location\":53}},\"location\":52}}],\"location\":44}}}}}]}'"
      ]
     },
     "execution_count": 45,
     "metadata": {},
     "output_type": "execute_result"
    }
   ],
   "source": [
    "\n",
    "\n",
    "pglast.parser.parse_sql_json('UPDATE review SET rating = $1 WHERE i_id=$2 AND u_id=$3')"
   ]
  }
 ],
 "metadata": {
  "kernelspec": {
   "display_name": "Python 3",
   "language": "python",
   "name": "python3"
  },
  "language_info": {
   "codemirror_mode": {
    "name": "ipython",
    "version": 3
   },
   "file_extension": ".py",
   "mimetype": "text/x-python",
   "name": "python",
   "nbconvert_exporter": "python",
   "pygments_lexer": "ipython3",
   "version": "3.8.12"
  }
 },
 "nbformat": 4,
 "nbformat_minor": 5
}
